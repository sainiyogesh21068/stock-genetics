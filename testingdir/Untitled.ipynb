{
 "cells": [
  {
   "cell_type": "code",
   "execution_count": 21,
   "metadata": {
    "scrolled": true
   },
   "outputs": [
    {
     "data": {
      "text/plain": [
       "0      297.50\n",
       "1      296.30\n",
       "2      296.35\n",
       "3      296.35\n",
       "4      295.65\n",
       "5      295.60\n",
       "6      295.90\n",
       "7      295.70\n",
       "8      295.60\n",
       "9      295.80\n",
       "10     295.40\n",
       "11     295.55\n",
       "12     295.40\n",
       "13     295.20\n",
       "14     295.55\n",
       "15     295.75\n",
       "16     295.75\n",
       "17     295.50\n",
       "18     295.60\n",
       "19     295.00\n",
       "20     295.15\n",
       "21     295.05\n",
       "22     295.40\n",
       "23     295.40\n",
       "24     295.60\n",
       "25     295.40\n",
       "26     295.35\n",
       "27     295.45\n",
       "28     295.35\n",
       "29     295.35\n",
       "        ...  \n",
       "363    299.65\n",
       "364    299.35\n",
       "365    299.45\n",
       "366    299.45\n",
       "367    299.85\n",
       "368    300.00\n",
       "369    300.15\n",
       "370    300.25\n",
       "371    300.30\n",
       "372    300.50\n",
       "373    300.35\n",
       "374    300.45\n",
       "375    300.70\n",
       "376    299.60\n",
       "377    299.60\n",
       "378    300.70\n",
       "379    299.60\n",
       "380    299.60\n",
       "381    300.70\n",
       "382    299.60\n",
       "383    299.60\n",
       "384    299.60\n",
       "385    299.60\n",
       "386    299.60\n",
       "387    299.60\n",
       "388    300.70\n",
       "389    299.60\n",
       "390    299.60\n",
       "391    299.60\n",
       "392    299.60\n",
       "Name: 6, Length: 393, dtype: float64"
      ]
     },
     "execution_count": 21,
     "metadata": {},
     "output_type": "execute_result"
    }
   ],
   "source": [
    "import pandas as pd\n",
    "import statistics\n",
    "df1 = pd.read_csv(\"/root/alpha/git/mine/data_science/data/01JAN/SBIN.csv\",header=None)\n",
    "df = df1[6]\n",
    "statistics.mean(df)\n",
    "df #meannn"
   ]
  },
  {
   "cell_type": "code",
   "execution_count": 22,
   "metadata": {},
   "outputs": [
    {
     "data": {
      "text/plain": [
       "296.35"
      ]
     },
     "execution_count": 22,
     "metadata": {},
     "output_type": "execute_result"
    }
   ],
   "source": [
    "df[2]"
   ]
  }
 ],
 "metadata": {
  "kernelspec": {
   "display_name": "Python 3",
   "language": "python",
   "name": "python3"
  },
  "language_info": {
   "codemirror_mode": {
    "name": "ipython",
    "version": 3
   },
   "file_extension": ".py",
   "mimetype": "text/x-python",
   "name": "python",
   "nbconvert_exporter": "python",
   "pygments_lexer": "ipython3",
   "version": "3.7.3"
  }
 },
 "nbformat": 4,
 "nbformat_minor": 2
}
